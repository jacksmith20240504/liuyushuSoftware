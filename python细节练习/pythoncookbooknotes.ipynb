{
 "cells": [
  {
   "cell_type": "markdown",
   "metadata": {},
   "source": [
    "# python3-cook book 学习笔记\n",
    "## 1.数据结构和算法"
   ]
  },
  {
   "cell_type": "markdown",
   "metadata": {},
   "source": [
    "### 1.1 将序列分解为单独的变量"
   ]
  },
  {
   "cell_type": "code",
   "execution_count": 7,
   "metadata": {},
   "outputs": [
    {
     "name": "stdout",
     "output_type": "stream",
     "text": [
      "4\n"
     ]
    }
   ],
   "source": [
    "p = (4,5)\n",
    "x,y = p\n",
    "print (x)"
   ]
  },
  {
   "cell_type": "code",
   "execution_count": 3,
   "metadata": {},
   "outputs": [
    {
     "name": "stdout",
     "output_type": "stream",
     "text": [
      "ACME\n"
     ]
    }
   ],
   "source": [
    "data = ['ACME',50,91.1,(2012,12,21)]\n",
    "name,shares,price,data = data\n",
    "print(name)\n"
   ]
  },
  {
   "cell_type": "code",
   "execution_count": 4,
   "metadata": {},
   "outputs": [
    {
     "name": "stdout",
     "output_type": "stream",
     "text": [
      "H\n"
     ]
    }
   ],
   "source": [
    "# 不仅仅是元组或列表，只要对象可迭代，就可以执行分解操作。包括字符串，文件对象，迭代器和生成器。\n",
    "s = 'Hello'\n",
    "a,b,c,d,e = s\n",
    "print (a)"
   ]
  },
  {
   "cell_type": "code",
   "execution_count": 5,
   "metadata": {},
   "outputs": [
    {
     "data": {
      "text/plain": [
       "50"
      ]
     },
     "execution_count": 5,
     "metadata": {},
     "output_type": "execute_result"
    }
   ],
   "source": [
    "#有时候，你可能只想解压一部分，丢弃其他的值。对于这种情况 Python 并没有提供特殊的语法。 但是你可以使用任意变量名去占位，到时候丢掉这些变量就行了。\n",
    "data = ['ACME',50,91.1,(2012,12,21)]\n",
    "_, shares,price,_ = data\n",
    "shares"
   ]
  },
  {
   "cell_type": "markdown",
   "metadata": {},
   "source": [
    "### 1.2 解压可迭代对象赋值给多个变量"
   ]
  },
  {
   "cell_type": "code",
   "execution_count": 9,
   "metadata": {},
   "outputs": [],
   "source": [
    "#Python 的星号表达式可以用来解决这个问题。比如，你在学习一门课程，在学期末的时候， 你想统计下家庭作业的平均成绩，但是排除掉第一个和最后一个分数。如果只有四个分数，你可能就直接去简单的手动赋值， 但如果有 24 个呢？这时候星号表达式就派上用场了：\n",
    "def drop_first_last(grades):\n",
    "    first, *middle,last = grades\n",
    "    return avg(middle)"
   ]
  },
  {
   "cell_type": "code",
   "execution_count": 10,
   "metadata": {},
   "outputs": [
    {
     "name": "stdout",
     "output_type": "stream",
     "text": [
      "Dave\n"
     ]
    }
   ],
   "source": [
    "# 另外一种情况，假设你现在有一些用户的记录列表，每条记录包含一个名字、邮件，接着就是不确定数量的电话号码。 你可以像下面这样分解这些记录：\n",
    "record = ('Dave','deve@example.com','773-555-1212','847-555-1212')\n",
    "name,email,*phone_numbers = record\n",
    "print(name)\n"
   ]
  },
  {
   "cell_type": "code",
   "execution_count": 14,
   "metadata": {},
   "outputs": [
    {
     "name": "stdout",
     "output_type": "stream",
     "text": [
      "1\n",
      "2\n",
      "3\n"
     ]
    }
   ],
   "source": [
    "#在 Python 中，星号表达式（* - expression）是一种特殊的语法形式。它主要用于函数定义中的参数传递以及序列（如列表、元组等）的解包操作。\n",
    "#可变参数在函数定义时，使用*args（按照惯例，args是一个可变的参数名，但可以使用其他名称）可以接收任意数量的位置参数。例如：\n",
    "\n",
    "def my_function(*args):\n",
    "    for arg in args:\n",
    "        print(arg)\n",
    "    \n",
    "my_function(1,2,3)\n",
    "    "
   ]
  },
  {
   "cell_type": "code",
   "execution_count": 16,
   "metadata": {},
   "outputs": [
    {
     "name": "stdout",
     "output_type": "stream",
     "text": [
      "a 1\n",
      "b 2\n"
     ]
    }
   ],
   "source": [
    "# 关键字可变参数：使用**kwargs（按照惯例，kwargs表示关键字参数，但也可以使用其他名称）可以接收任意数量的关键字参数。例如。\n",
    "\n",
    "def my_function2(**kwargs):\n",
    "    for key,value in kwargs.items():\n",
    "        print(key,value)\n",
    "\n",
    "my_function2(a=1,b=2)"
   ]
  },
  {
   "cell_type": "code",
   "execution_count": 17,
   "metadata": {},
   "outputs": [
    {
     "name": "stdout",
     "output_type": "stream",
     "text": [
      "1\n",
      "2\n",
      "[3, 4, 5]\n"
     ]
    }
   ],
   "source": [
    "#列表解包,可以使用星号表达式将一个列表解包成多个变量。\n",
    "my_list=[1,2,3,4,5]\n",
    "a,b,*rest = my_list\n",
    "print(a)\n",
    "print(b)\n",
    "print(rest)"
   ]
  },
  {
   "cell_type": "code",
   "execution_count": 18,
   "metadata": {},
   "outputs": [
    {
     "name": "stdout",
     "output_type": "stream",
     "text": [
      "10\n",
      "20\n",
      "[30, 40, 50]\n"
     ]
    }
   ],
   "source": [
    "# 元组也可以使用星号表达解包\n",
    "my_tuple = (10,20,30,40,50)\n",
    "x,y,*z = my_tuple\n",
    "print(x)\n",
    "print(y)\n",
    "print(z)\n"
   ]
  },
  {
   "cell_type": "code",
   "execution_count": 20,
   "metadata": {},
   "outputs": [
    {
     "name": "stdout",
     "output_type": "stream",
     "text": [
      "[9, 8, 5]\n",
      "[{'name': 'Bob', 'score': 92}, {'name': 'Alice', 'score': 85}]\n"
     ]
    }
   ],
   "source": [
    "# heapq 两个函数：nlargest() 和 nsmallest() 的用法\n",
    "# 函数语法 heapq.nlargest(n, iterable, key = None)\n",
    "# 其中，n 表示要返回的最大元素的数量。\n",
    "# iterable,要从中查找最大元素的可迭代对象，例如列表，元组等。\n",
    "# key(可选)，是一个函数，用于对可迭代对象中的每个元素进行处理，然后根据处理后的结果来比较大小。如果不提供key函数，将直接比较可迭代对象中的元素本身。\n",
    "import heapq\n",
    "# 不使用key函数示例\n",
    "nums = [1,5,3,9,2,8]\n",
    "result = heapq.nlargest(3,nums)\n",
    "print(result)\n",
    "\n",
    "# 使用key函数的示例\n",
    "'''\n",
    " 假设有一个包含字典的列表，每个字典表示一个学生的信息，其中有`'name'`和`'score'`两个键，想要找出分数最高的2个学生。\n",
    " 这里的key函数是一个匿名函数lambda student: student['score']，它的作用是从每个字典（学生信息）中提取出'score'这个键对应的值\n",
    " ，然后根据这些值来比较大小，最后返回分数最高的 2 个学生的信息字典。\n",
    " 运行结果可能是[{'name': 'Bob','score': 92}, {'name': 'Alice','score': 85}]。\n",
    "'''\n",
    "students = [{'name': 'Alice','score': 85}, \n",
    "            {'name': 'Bob','score': 92}, \n",
    "            {'name': 'Charlie','score': 78}]\n",
    "result = heapq.nlargest(2, students, key \n",
    "                        = lambda student: student['score'])\n",
    "print(result)\n"
   ]
  },
  {
   "cell_type": "code",
   "execution_count": 29,
   "metadata": {},
   "outputs": [
    {
     "name": "stdout",
     "output_type": "stream",
     "text": [
      "8\n",
      "[1, 2, 3, 4, 5]\n"
     ]
    }
   ],
   "source": [
    "# 补充lambda用法解释\n",
    "'''\n",
    "lambda是一种匿名函数的定义方式，是不需要def关键字定义函数名的函数，适用于简单的、一次性使用的函数需求。\n",
    "lambda的基本语法为 lambda arguments:expression.其中,arguments 是函数的参数，expression是函数体（一个表达式）\n",
    "该表达式的结果就是函数的返回值\n",
    "'''\n",
    "# 如果使用普通的函数定义方式：\n",
    "def add_T(x,y):\n",
    "    return x + y\n",
    "\n",
    "# 如果使用lambda\n",
    "add = lambda x,y: x+y\n",
    "\n",
    "result = add(3,5)\n",
    "\n",
    "print(result)\n",
    "\n",
    "\n",
    "'''\n",
    "lambda作为参数传递给其他函数,特别是在一些高阶函数（如map、filter、reduce等）中。\n",
    "例如，filter函数中，筛选出其中的偶数。\n",
    "注意：lambda表达式只能包含一个表达式，不能包含复杂的语句块（如循环、多个嵌套的条件语句等）。\n",
    "如果需要更复杂的逻辑，应该使用普通的def函数定义方式。\n",
    "'''\n",
    "nums = [1,2,3,4,5]\n",
    "#evens = list(filter(lambda x:x%2==0,nums))\n",
    "evens = list(filter(int,nums))\n",
    "print(evens)"
   ]
  },
  {
   "cell_type": "markdown",
   "metadata": {},
   "source": [
    "1.5 实现一个优先级队列"
   ]
  },
  {
   "cell_type": "code",
   "execution_count": 30,
   "metadata": {},
   "outputs": [
    {
     "name": "stdout",
     "output_type": "stream",
     "text": [
      "task3\n",
      "task1\n",
      "task2\n"
     ]
    }
   ],
   "source": [
    "'''\n",
    "#示例代码\n",
    "import heapq\n",
    "\n",
    "class PriorityQueue:\n",
    "    def __init__(self):\n",
    "        self._queue = []\n",
    "        self._index = 0\n",
    "\n",
    "    def push(self, item, priority):\n",
    "        heapq.heappush(self._queue, (-priority, self._index, item))\n",
    "        self._index += 1\n",
    "\n",
    "    def pop(self):\n",
    "        return heapq.heappop(self._queue)[-1]\n",
    "'''\n",
    "class SimplePriorityQueue:\n",
    "    def __init__(self):\n",
    "        self._queue = []\n",
    "\n",
    "    def push(self, item, priority):\n",
    "        self._queue.append((priority, item))\n",
    "        # 根据优先级对队列进行排序（优先级高的在前）\n",
    "        self._queue.sort(reverse=True, key=lambda x: x[0])\n",
    "\n",
    "    def pop(self):\n",
    "        # 移除并返回优先级最高的元素\n",
    "        return self._queue.pop(0)[1]\n",
    "\n",
    "# 示例用法\n",
    "queue = SimplePriorityQueue()\n",
    "queue.push(\"task1\", 2)\n",
    "queue.push(\"task2\", 1)\n",
    "queue.push(\"task3\", 3)\n",
    "\n",
    "print(queue.pop())  # 输出: \"task3\"\n",
    "print(queue.pop())  # 输出: \"task1\"\n",
    "print(queue.pop())  # 输出: \"task2\"\n",
    "\n"
   ]
  },
  {
   "cell_type": "markdown",
   "metadata": {},
   "source": [
    "1.6 字典中的键映射多个值"
   ]
  },
  {
   "cell_type": "code",
   "execution_count": 32,
   "metadata": {},
   "outputs": [
    {
     "name": "stdout",
     "output_type": "stream",
     "text": [
      "{'a': [1, 2, 3], 'b': [4, 5]}\n"
     ]
    }
   ],
   "source": [
    "'''一个字典就是一个键对应一个单值的映射。\n",
    "如果你想要一个键映射多个值，\n",
    "那么你就需要将这多个值放到另外的容器中， 比如列表或者集合里面。\n",
    "选择使用列表还是集合取决于你的实际需求。\n",
    "如果你想保持元素的插入顺序就应该使用列表， 如果想去掉重复元素就使用集合（并且不关心元素的顺序问题）。\n",
    "'''\n",
    "\n",
    "d = {\n",
    "    'a':[1,2,3],\n",
    "    'b':[4,5]\n",
    "}\n",
    "\n",
    "e = {\n",
    "    'a':{1,2,3},\n",
    "    'b':{4,5}\n",
    "}\n",
    "\n",
    "print (d)\n"
   ]
  },
  {
   "cell_type": "code",
   "execution_count": 34,
   "metadata": {},
   "outputs": [
    {
     "name": "stdout",
     "output_type": "stream",
     "text": [
      "{3, 4}\n"
     ]
    }
   ],
   "source": [
    "'''\n",
    "补充知识\n",
    "list 和 Set 的区别\n",
    "定义：列表是一种有序的可变序列，使用方括号[]来定义。集合是一种无序的、不包含重复元素的数据结构，使用大括号{}\n",
    "不同之处：\n",
    "1.列表可以包含重复的元素。集合中元素唯一，重复的元素会被自动去除。\n",
    "2.列表中的元素有序，每个元素都有一个确定的索引位置。集合中的元素是无序的。\n",
    "3.列表中添加元素用append() 方法将元素添加到列表末尾或 insert()，insert方法插入指定位置。集合中添加元素用add()方法。\n",
    "4.删除元素，列表用remove()和pop()方法。del 和 remove方法删除指定元素，pop删除指定索引位置元素。\n",
    "  从集合中删除元素使用remove()或discard()方法。\n",
    "'''\n",
    "my_set = {1,2,2,4,3}\n",
    "my_set.remove(1)\n",
    "my_set.discard(2)\n",
    "print(my_set)"
   ]
  },
  {
   "cell_type": "markdown",
   "metadata": {},
   "source": [
    "1.7 字典排序"
   ]
  },
  {
   "cell_type": "code",
   "execution_count": 36,
   "metadata": {},
   "outputs": [
    {
     "name": "stdout",
     "output_type": "stream",
     "text": [
      "foo 1\n",
      "bar 1\n",
      "spam 1\n",
      "grok 1\n"
     ]
    }
   ],
   "source": [
    "#  collections 模块中的 OrderedDict 类。 \n",
    "# 在迭代操作的时候它会保持元素被插入时的顺序\n",
    "from collections import OrderedDict\n",
    "\n",
    "d = OrderedDict()\n",
    "d['foo']=1\n",
    "d['bar']=1\n",
    "d['spam']=1\n",
    "d['grok']=1\n",
    "for key in d:\n",
    "    print(key,d[key])\n"
   ]
  },
  {
   "cell_type": "markdown",
   "metadata": {},
   "source": [
    "1.8 字典的运算"
   ]
  },
  {
   "cell_type": "code",
   "execution_count": 41,
   "metadata": {},
   "outputs": [
    {
     "name": "stdout",
     "output_type": "stream",
     "text": [
      "(10.75, 'FB')\n"
     ]
    }
   ],
   "source": [
    "'''\n",
    "为了对字典值执行计算操作，通常需要使用 zip() 函数先将键和值反转过来。 \n",
    "比如，下面是查找最小和最大股票价格和股票值的代码：\n",
    "'''\n",
    "prices = {\n",
    "    'ACME': 45.23,\n",
    "    'AAPL': 612.78,\n",
    "    'IBM': 205.55,\n",
    "    'HPQ': 37.20,\n",
    "    'FB': 10.75\n",
    "}\n",
    "min_price=min(zip(prices.values(),prices.keys()))\n",
    "\n",
    "max_price=max(zip(prices.values(),prices.keys()))\n",
    "\n",
    "#类似的，可以使用 zip() 和 sorted() 函数来排列字典数据：\n",
    "\n",
    "print(min_price)"
   ]
  },
  {
   "cell_type": "markdown",
   "metadata": {},
   "source": [
    "1.9 查找两字典的相同点"
   ]
  },
  {
   "cell_type": "code",
   "execution_count": 42,
   "metadata": {},
   "outputs": [
    {
     "name": "stdout",
     "output_type": "stream",
     "text": [
      "{'y': 2}\n"
     ]
    }
   ],
   "source": [
    "a = {\n",
    "    'x' : 1,\n",
    "    'y' : 2,\n",
    "    'z' : 3\n",
    "}\n",
    "\n",
    "b = {\n",
    "    'w' : 10,\n",
    "    'x' : 11,\n",
    "    'y' : 2\n",
    "}\n",
    "\n",
    "# Find common keys with the same values\n",
    "common_items = {key: a[key] for key in a if key in b and a[key] == b[key]}\n",
    "\n",
    "# Print the result\n",
    "print(common_items)"
   ]
  },
  {
   "cell_type": "markdown",
   "metadata": {},
   "source": [
    "1.10 删除序列相同元素并保持顺序"
   ]
  },
  {
   "cell_type": "code",
   "execution_count": 46,
   "metadata": {},
   "outputs": [
    {
     "name": "stdout",
     "output_type": "stream",
     "text": [
      "10\n",
      "<generator object dedupe1 at 0x0000012AAAA374C0>\n"
     ]
    }
   ],
   "source": [
    "#补充知识，什么是hashable 类型？\n",
    "'''在 Python 中，可哈希（hashable）类型是指那些可以生成一个哈希值（hash value）的对象类型。\n",
    "哈希值是一个固定长度的整数，它是根据对象的内容计算出来的。\n",
    "这个哈希值用于在字典（dict）和集合（set）等数据结构中快速查找对象。\n",
    "可哈希对象在其生命周期内的哈希值是不变的，并且如果两个对象相等（==），那么它们的哈希值必须相同。\n",
    "'''\n",
    "# 例如，不可变数据类型，整数（int）\n",
    "num = 10\n",
    "hash_value = hash(num)\n",
    "print(hash_value)\n",
    "\n",
    "# 不可哈希类型，列表（list）和字典（dict）\n",
    "# 如果序列上的值都是 hashable 类型，那么可以很简单的利用集合或者生成器来解决这个问题。\n",
    "def dedupe1(items):\n",
    "    seen = set()\n",
    "    for item in items:\n",
    "        if item not in seen:\n",
    "            yield item\n",
    "            seen.add(item)\n",
    "\n",
    "a = [1,3,3,4,3,6,6,7,8,9]\n",
    "b = list(dedupe1(a))\n",
    "print(b)\n",
    "            "
   ]
  },
  {
   "cell_type": "code",
   "execution_count": null,
   "metadata": {},
   "outputs": [],
   "source": []
  }
 ],
 "metadata": {
  "kernelspec": {
   "display_name": "base",
   "language": "python",
   "name": "python3"
  },
  "language_info": {
   "codemirror_mode": {
    "name": "ipython",
    "version": 3
   },
   "file_extension": ".py",
   "mimetype": "text/x-python",
   "name": "python",
   "nbconvert_exporter": "python",
   "pygments_lexer": "ipython3",
   "version": "3.11.7"
  }
 },
 "nbformat": 4,
 "nbformat_minor": 2
}
